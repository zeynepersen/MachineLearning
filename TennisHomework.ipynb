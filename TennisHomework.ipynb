{
 "cells": [
  {
   "cell_type": "markdown",
   "id": "d35a1175",
   "metadata": {},
   "source": [
    "# 1.Kutuphaneler"
   ]
  },
  {
   "cell_type": "code",
   "execution_count": 2,
   "id": "c3fa6501",
   "metadata": {},
   "outputs": [],
   "source": [
    "import pandas as pd #verileri düzgün şekilde tutabilmek içindir(dataframe içerisinde)\n",
    "import numpy as np #büyük sayılar ve hesaplama işlemleri için kullanılır\n",
    "import matplotlib.pyplot as plt #çizim için kullanılır"
   ]
  },
  {
   "cell_type": "markdown",
   "id": "b79ad3f1",
   "metadata": {},
   "source": [
    "# Kodlar"
   ]
  },
  {
   "cell_type": "markdown",
   "id": "b2a3540d",
   "metadata": {},
   "source": [
    "# 2.Veri onisleme"
   ]
  },
  {
   "cell_type": "code",
   "execution_count": 3,
   "id": "46d3a6c1",
   "metadata": {},
   "outputs": [],
   "source": [
    "#çift tırnakta olur tekte\n",
    "veriler=pd.read_csv('odev_tenis.csv')\n",
    "#pd.read_csv(\"veriler.csv\")"
   ]
  },
  {
   "cell_type": "markdown",
   "id": "0ef81172",
   "metadata": {},
   "source": [
    "# test"
   ]
  },
  {
   "cell_type": "code",
   "execution_count": 4,
   "id": "723b70db",
   "metadata": {},
   "outputs": [
    {
     "name": "stdout",
     "output_type": "stream",
     "text": [
      "     outlook  temperature  humidity  windy play\n",
      "0      sunny           85        85  False   no\n",
      "1      sunny           80        90   True   no\n",
      "2   overcast           83        86  False  yes\n",
      "3      rainy           70        96  False  yes\n",
      "4      rainy           68        80  False  yes\n",
      "5      rainy           65        70   True   no\n",
      "6   overcast           64        65   True  yes\n",
      "7      sunny           72        95  False   no\n",
      "8      sunny           69        70  False  yes\n",
      "9      rainy           75        80  False  yes\n",
      "10     sunny           75        70   True  yes\n",
      "11  overcast           72        90   True  yes\n",
      "12  overcast           81        75  False  yes\n",
      "13     rainy           71        91   True   no\n"
     ]
    }
   ],
   "source": [
    "print(veriler)"
   ]
  },
  {
   "cell_type": "code",
   "execution_count": 27,
   "id": "ca8621a9",
   "metadata": {},
   "outputs": [
    {
     "name": "stdout",
     "output_type": "stream",
     "text": [
      "    windy  play    o    r    s  temperature  humidity\n",
      "0       0     0  0.0  0.0  1.0           85        85\n",
      "1       1     0  0.0  0.0  1.0           80        90\n",
      "2       0     1  1.0  0.0  0.0           83        86\n",
      "3       0     1  0.0  1.0  0.0           70        96\n",
      "4       0     1  0.0  1.0  0.0           68        80\n",
      "5       1     0  0.0  1.0  0.0           65        70\n",
      "6       1     1  1.0  0.0  0.0           64        65\n",
      "7       0     0  0.0  0.0  1.0           72        95\n",
      "8       0     1  0.0  0.0  1.0           69        70\n",
      "9       0     1  0.0  1.0  0.0           75        80\n",
      "10      1     1  0.0  0.0  1.0           75        70\n",
      "11      1     1  1.0  0.0  0.0           72        90\n",
      "12      0     1  1.0  0.0  0.0           81        75\n",
      "13      1     0  0.0  1.0  0.0           71        91\n"
     ]
    }
   ],
   "source": [
    "#kısa yoldan encoding\n",
    "from sklearn import preprocessing\n",
    "veriler2 =veriler.apply(preprocessing.LabelEncoder().fit_transform)\n",
    "\n",
    "c= veriler2.iloc[:,:1]\n",
    "\n",
    "from sklearn import preprocessing\n",
    "ohe = preprocessing.OneHotEncoder()\n",
    "c=ohe.fit_transform(c).toarray()\n",
    "\n",
    "havadurumu = pd.DataFrame(data=c, index=range(14),columns=['o','r','s'])\n",
    "sonveriler = pd.concat([havadurumu,veriler.iloc[:,1:3]],axis=1)\n",
    "sonveriler = pd.concat([veriler2.iloc[:,-2:],sonveriler],axis=1)\n",
    "\n",
    "print(sonveriler)"
   ]
  },
  {
   "cell_type": "code",
   "execution_count": 83,
   "id": "44e6e3ec",
   "metadata": {},
   "outputs": [],
   "source": [
    "#verilerin egitim ve test icin bolunmesi"
   ]
  },
  {
   "cell_type": "code",
   "execution_count": 28,
   "id": "a49b837e",
   "metadata": {},
   "outputs": [],
   "source": [
    "from sklearn.model_selection import train_test_split"
   ]
  },
  {
   "cell_type": "code",
   "execution_count": 31,
   "id": "170729b7",
   "metadata": {},
   "outputs": [],
   "source": [
    "x_train, x_test, y_train, y_test = train_test_split(sonveriler.iloc[:,:-1],sonveriler.iloc[:,-1:],test_size=0.33,random_state=0)"
   ]
  },
  {
   "cell_type": "code",
   "execution_count": 32,
   "id": "706e3b8a",
   "metadata": {},
   "outputs": [
    {
     "data": {
      "text/html": [
       "<style>#sk-container-id-1 {color: black;}#sk-container-id-1 pre{padding: 0;}#sk-container-id-1 div.sk-toggleable {background-color: white;}#sk-container-id-1 label.sk-toggleable__label {cursor: pointer;display: block;width: 100%;margin-bottom: 0;padding: 0.3em;box-sizing: border-box;text-align: center;}#sk-container-id-1 label.sk-toggleable__label-arrow:before {content: \"▸\";float: left;margin-right: 0.25em;color: #696969;}#sk-container-id-1 label.sk-toggleable__label-arrow:hover:before {color: black;}#sk-container-id-1 div.sk-estimator:hover label.sk-toggleable__label-arrow:before {color: black;}#sk-container-id-1 div.sk-toggleable__content {max-height: 0;max-width: 0;overflow: hidden;text-align: left;background-color: #f0f8ff;}#sk-container-id-1 div.sk-toggleable__content pre {margin: 0.2em;color: black;border-radius: 0.25em;background-color: #f0f8ff;}#sk-container-id-1 input.sk-toggleable__control:checked~div.sk-toggleable__content {max-height: 200px;max-width: 100%;overflow: auto;}#sk-container-id-1 input.sk-toggleable__control:checked~label.sk-toggleable__label-arrow:before {content: \"▾\";}#sk-container-id-1 div.sk-estimator input.sk-toggleable__control:checked~label.sk-toggleable__label {background-color: #d4ebff;}#sk-container-id-1 div.sk-label input.sk-toggleable__control:checked~label.sk-toggleable__label {background-color: #d4ebff;}#sk-container-id-1 input.sk-hidden--visually {border: 0;clip: rect(1px 1px 1px 1px);clip: rect(1px, 1px, 1px, 1px);height: 1px;margin: -1px;overflow: hidden;padding: 0;position: absolute;width: 1px;}#sk-container-id-1 div.sk-estimator {font-family: monospace;background-color: #f0f8ff;border: 1px dotted black;border-radius: 0.25em;box-sizing: border-box;margin-bottom: 0.5em;}#sk-container-id-1 div.sk-estimator:hover {background-color: #d4ebff;}#sk-container-id-1 div.sk-parallel-item::after {content: \"\";width: 100%;border-bottom: 1px solid gray;flex-grow: 1;}#sk-container-id-1 div.sk-label:hover label.sk-toggleable__label {background-color: #d4ebff;}#sk-container-id-1 div.sk-serial::before {content: \"\";position: absolute;border-left: 1px solid gray;box-sizing: border-box;top: 0;bottom: 0;left: 50%;z-index: 0;}#sk-container-id-1 div.sk-serial {display: flex;flex-direction: column;align-items: center;background-color: white;padding-right: 0.2em;padding-left: 0.2em;position: relative;}#sk-container-id-1 div.sk-item {position: relative;z-index: 1;}#sk-container-id-1 div.sk-parallel {display: flex;align-items: stretch;justify-content: center;background-color: white;position: relative;}#sk-container-id-1 div.sk-item::before, #sk-container-id-1 div.sk-parallel-item::before {content: \"\";position: absolute;border-left: 1px solid gray;box-sizing: border-box;top: 0;bottom: 0;left: 50%;z-index: -1;}#sk-container-id-1 div.sk-parallel-item {display: flex;flex-direction: column;z-index: 1;position: relative;background-color: white;}#sk-container-id-1 div.sk-parallel-item:first-child::after {align-self: flex-end;width: 50%;}#sk-container-id-1 div.sk-parallel-item:last-child::after {align-self: flex-start;width: 50%;}#sk-container-id-1 div.sk-parallel-item:only-child::after {width: 0;}#sk-container-id-1 div.sk-dashed-wrapped {border: 1px dashed gray;margin: 0 0.4em 0.5em 0.4em;box-sizing: border-box;padding-bottom: 0.4em;background-color: white;}#sk-container-id-1 div.sk-label label {font-family: monospace;font-weight: bold;display: inline-block;line-height: 1.2em;}#sk-container-id-1 div.sk-label-container {text-align: center;}#sk-container-id-1 div.sk-container {/* jupyter's `normalize.less` sets `[hidden] { display: none; }` but bootstrap.min.css set `[hidden] { display: none !important; }` so we also need the `!important` here to be able to override the default hidden behavior on the sphinx rendered scikit-learn.org. See: https://github.com/scikit-learn/scikit-learn/issues/21755 */display: inline-block !important;position: relative;}#sk-container-id-1 div.sk-text-repr-fallback {display: none;}</style><div id=\"sk-container-id-1\" class=\"sk-top-container\"><div class=\"sk-text-repr-fallback\"><pre>LinearRegression()</pre><b>In a Jupyter environment, please rerun this cell to show the HTML representation or trust the notebook. <br />On GitHub, the HTML representation is unable to render, please try loading this page with nbviewer.org.</b></div><div class=\"sk-container\" hidden><div class=\"sk-item\"><div class=\"sk-estimator sk-toggleable\"><input class=\"sk-toggleable__control sk-hidden--visually\" id=\"sk-estimator-id-1\" type=\"checkbox\" checked><label for=\"sk-estimator-id-1\" class=\"sk-toggleable__label sk-toggleable__label-arrow\">LinearRegression</label><div class=\"sk-toggleable__content\"><pre>LinearRegression()</pre></div></div></div></div></div>"
      ],
      "text/plain": [
       "LinearRegression()"
      ]
     },
     "execution_count": 32,
     "metadata": {},
     "output_type": "execute_result"
    }
   ],
   "source": [
    "from sklearn.linear_model import LinearRegression\n",
    "regressor = LinearRegression()\n",
    "regressor.fit(x_train,y_train)"
   ]
  },
  {
   "cell_type": "code",
   "execution_count": 33,
   "id": "01803ee6",
   "metadata": {},
   "outputs": [],
   "source": [
    "y_pred = regressor.predict(x_test)"
   ]
  },
  {
   "cell_type": "code",
   "execution_count": 34,
   "id": "976069eb",
   "metadata": {},
   "outputs": [
    {
     "data": {
      "text/plain": [
       "array([[84.45365573],\n",
       "       [63.93839954],\n",
       "       [85.76050662],\n",
       "       [64.21013241],\n",
       "       [75.06793322]])"
      ]
     },
     "execution_count": 34,
     "metadata": {},
     "output_type": "execute_result"
    }
   ],
   "source": [
    "y_pred"
   ]
  },
  {
   "cell_type": "code",
   "execution_count": 35,
   "id": "1ceed523",
   "metadata": {},
   "outputs": [
    {
     "data": {
      "text/html": [
       "<div>\n",
       "<style scoped>\n",
       "    .dataframe tbody tr th:only-of-type {\n",
       "        vertical-align: middle;\n",
       "    }\n",
       "\n",
       "    .dataframe tbody tr th {\n",
       "        vertical-align: top;\n",
       "    }\n",
       "\n",
       "    .dataframe thead th {\n",
       "        text-align: right;\n",
       "    }\n",
       "</style>\n",
       "<table border=\"1\" class=\"dataframe\">\n",
       "  <thead>\n",
       "    <tr style=\"text-align: right;\">\n",
       "      <th></th>\n",
       "      <th>humidity</th>\n",
       "    </tr>\n",
       "  </thead>\n",
       "  <tbody>\n",
       "    <tr>\n",
       "      <th>8</th>\n",
       "      <td>70</td>\n",
       "    </tr>\n",
       "    <tr>\n",
       "      <th>6</th>\n",
       "      <td>65</td>\n",
       "    </tr>\n",
       "    <tr>\n",
       "      <th>4</th>\n",
       "      <td>80</td>\n",
       "    </tr>\n",
       "    <tr>\n",
       "      <th>11</th>\n",
       "      <td>90</td>\n",
       "    </tr>\n",
       "    <tr>\n",
       "      <th>2</th>\n",
       "      <td>86</td>\n",
       "    </tr>\n",
       "  </tbody>\n",
       "</table>\n",
       "</div>"
      ],
      "text/plain": [
       "    humidity\n",
       "8         70\n",
       "6         65\n",
       "4         80\n",
       "11        90\n",
       "2         86"
      ]
     },
     "execution_count": 35,
     "metadata": {},
     "output_type": "execute_result"
    }
   ],
   "source": [
    "y_test"
   ]
  },
  {
   "cell_type": "code",
   "execution_count": 36,
   "id": "e9002e13",
   "metadata": {},
   "outputs": [],
   "source": [
    "import statsmodels.api as sm"
   ]
  },
  {
   "cell_type": "code",
   "execution_count": 38,
   "id": "64865ffb",
   "metadata": {},
   "outputs": [
    {
     "data": {
      "text/plain": [
       "array([[ 1.,  0.,  0.,  0.,  0.,  1., 85.],\n",
       "       [ 1.,  1.,  0.,  0.,  0.,  1., 80.],\n",
       "       [ 1.,  0.,  1.,  1.,  0.,  0., 83.],\n",
       "       [ 1.,  0.,  1.,  0.,  1.,  0., 70.],\n",
       "       [ 1.,  0.,  1.,  0.,  1.,  0., 68.],\n",
       "       [ 1.,  1.,  0.,  0.,  1.,  0., 65.],\n",
       "       [ 1.,  1.,  1.,  1.,  0.,  0., 64.],\n",
       "       [ 1.,  0.,  0.,  0.,  0.,  1., 72.],\n",
       "       [ 1.,  0.,  1.,  0.,  0.,  1., 69.],\n",
       "       [ 1.,  0.,  1.,  0.,  1.,  0., 75.],\n",
       "       [ 1.,  1.,  1.,  0.,  0.,  1., 75.],\n",
       "       [ 1.,  1.,  1.,  1.,  0.,  0., 72.],\n",
       "       [ 1.,  0.,  1.,  1.,  0.,  0., 81.],\n",
       "       [ 1.,  1.,  0.,  0.,  1.,  0., 71.]])"
      ]
     },
     "execution_count": 38,
     "metadata": {},
     "output_type": "execute_result"
    }
   ],
   "source": [
    "X = np.append(arr = np.ones((14,1)).astype(int),values=sonveriler.iloc[:,:-1], axis=1)\n",
    "X"
   ]
  },
  {
   "cell_type": "code",
   "execution_count": 42,
   "id": "f14626b1",
   "metadata": {},
   "outputs": [
    {
     "name": "stdout",
     "output_type": "stream",
     "text": [
      "                            OLS Regression Results                            \n",
      "==============================================================================\n",
      "Dep. Variable:               humidity   R-squared:                       0.294\n",
      "Model:                            OLS   Adj. R-squared:                 -0.148\n",
      "Method:                 Least Squares   F-statistic:                    0.6653\n",
      "Date:                Tue, 02 Jan 2024   Prob (F-statistic):              0.661\n",
      "Time:                        21:13:37   Log-Likelihood:                -49.542\n",
      "No. Observations:                  14   AIC:                             111.1\n",
      "Df Residuals:                       8   BIC:                             114.9\n",
      "Df Model:                           5                                         \n",
      "Covariance Type:            nonrobust                                         \n",
      "==============================================================================\n",
      "                 coef    std err          t      P>|t|      [0.025      0.975]\n",
      "------------------------------------------------------------------------------\n",
      "x1            -4.0286      7.229     -0.557      0.593     -20.698      12.641\n",
      "x2            -8.2778      8.029     -1.031      0.333     -26.793      10.237\n",
      "x3            52.3891     50.214      1.043      0.327     -63.404     168.183\n",
      "x4            55.6337     45.233      1.230      0.254     -48.673     159.940\n",
      "x5            49.4291     48.337      1.023      0.336     -62.035     160.893\n",
      "x6             0.4920      0.597      0.825      0.433      -0.884       1.868\n",
      "==============================================================================\n",
      "Omnibus:                        0.935   Durbin-Watson:                   2.416\n",
      "Prob(Omnibus):                  0.627   Jarque-Bera (JB):                0.823\n",
      "Skew:                           0.389   Prob(JB):                        0.663\n",
      "Kurtosis:                       2.103   Cond. No.                     2.08e+03\n",
      "==============================================================================\n",
      "\n",
      "Notes:\n",
      "[1] Standard Errors assume that the covariance matrix of the errors is correctly specified.\n",
      "[2] The condition number is large, 2.08e+03. This might indicate that there are\n",
      "strong multicollinearity or other numerical problems.\n"
     ]
    },
    {
     "name": "stderr",
     "output_type": "stream",
     "text": [
      "c:\\Users\\zeyne\\AppData\\Local\\Programs\\Python\\Python312\\Lib\\site-packages\\scipy\\stats\\_stats_py.py:1806: UserWarning: kurtosistest only valid for n>=20 ... continuing anyway, n=14\n",
      "  warnings.warn(\"kurtosistest only valid for n>=20 ... continuing \"\n"
     ]
    }
   ],
   "source": [
    "X_l = sonveriler.iloc[:,[0,1,2,3,4,5]].values\n",
    "X_l= np.array(X_l, dtype=float)\n",
    "model = sm.OLS(sonveriler.iloc[:,-1:],X_l).fit()\n",
    "print(model.summary())"
   ]
  },
  {
   "cell_type": "code",
   "execution_count": 44,
   "metadata": {},
   "outputs": [
    {
     "name": "stdout",
     "output_type": "stream",
     "text": [
      "                            OLS Regression Results                            \n",
      "==============================================================================\n",
      "Dep. Variable:               humidity   R-squared:                       0.266\n",
      "Model:                            OLS   Adj. R-squared:                 -0.060\n",
      "Method:                 Least Squares   F-statistic:                    0.8165\n",
      "Date:                Tue, 02 Jan 2024   Prob (F-statistic):              0.546\n",
      "Time:                        21:15:38   Log-Likelihood:                -49.809\n",
      "No. Observations:                  14   AIC:                             109.6\n",
      "Df Residuals:                       9   BIC:                             112.8\n",
      "Df Model:                           4                                         \n",
      "Covariance Type:            nonrobust                                         \n",
      "==============================================================================\n",
      "                 coef    std err          t      P>|t|      [0.025      0.975]\n",
      "------------------------------------------------------------------------------\n",
      "x1            -6.2865      6.909     -0.910      0.387     -21.916       9.343\n",
      "x2            36.6564     39.905      0.919      0.382     -53.615     126.927\n",
      "x3            41.9135     36.464      1.149      0.280     -40.573     124.400\n",
      "x4            35.1064     39.339      0.892      0.395     -53.884     124.097\n",
      "x5             0.6484      0.506      1.282      0.232      -0.496       1.793\n",
      "==============================================================================\n",
      "Omnibus:                        0.887   Durbin-Watson:                   2.360\n",
      "Prob(Omnibus):                  0.642   Jarque-Bera (JB):                0.810\n",
      "Skew:                           0.424   Prob(JB):                        0.667\n",
      "Kurtosis:                       2.181   Cond. No.                     1.73e+03\n",
      "==============================================================================\n",
      "\n",
      "Notes:\n",
      "[1] Standard Errors assume that the covariance matrix of the errors is correctly specified.\n",
      "[2] The condition number is large, 1.73e+03. This might indicate that there are\n",
      "strong multicollinearity or other numerical problems.\n"
     ]
    },
    {
     "name": "stderr",
     "output_type": "stream",
     "text": [
      "c:\\Users\\zeyne\\AppData\\Local\\Programs\\Python\\Python312\\Lib\\site-packages\\scipy\\stats\\_stats_py.py:1806: UserWarning: kurtosistest only valid for n>=20 ... continuing anyway, n=14\n",
      "  warnings.warn(\"kurtosistest only valid for n>=20 ... continuing \"\n"
     ]
    }
   ],
   "source": [
    "import statsmodels.api as sm\n",
    "\n",
    "X = np.append(arr = np.ones((14,1)).astype(int),values=sonveriler.iloc[:,:-1], axis=1)\n",
    "\n",
    "sonveriler = sonveriler.iloc[:,1:]\n",
    "\n",
    "X_l = sonveriler.iloc[:,[0,1,2,3,4]].values\n",
    "X_l= np.array(X_l, dtype=float)\n",
    "model = sm.OLS(sonveriler.iloc[:,-1:],X_l).fit()\n",
    "print(model.summary())"
   ]
  },
  {
   "cell_type": "code",
   "execution_count": 45,
   "id": "57318f36",
   "metadata": {},
   "outputs": [],
   "source": [
    "x_train = x_train.iloc[:,1:]\n",
    "x_test = x_test.iloc[:,1:]"
   ]
  },
  {
   "cell_type": "code",
   "execution_count": 46,
   "id": "55fe17b3",
   "metadata": {},
   "outputs": [],
   "source": [
    "regressor.fit(x_train,y_train)\n",
    "\n",
    "y_pred = regressor.predict(x_test)"
   ]
  },
  {
   "cell_type": "code",
   "execution_count": null,
   "id": "852271a6",
   "metadata": {},
   "outputs": [],
   "source": []
  }
 ],
 "metadata": {
  "kernelspec": {
   "display_name": "Python 3 (ipykernel)",
   "language": "python",
   "name": "python3"
  },
  "language_info": {
   "codemirror_mode": {
    "name": "ipython",
    "version": 3
   },
   "file_extension": ".py",
   "mimetype": "text/x-python",
   "name": "python",
   "nbconvert_exporter": "python",
   "pygments_lexer": "ipython3",
   "version": "3.12.0"
  }
 },
 "nbformat": 4,
 "nbformat_minor": 5
}
