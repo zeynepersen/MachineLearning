{
 "cells": [
  {
   "cell_type": "markdown",
   "id": "d35a1175",
   "metadata": {},
   "source": [
    "# 1.Kutuphaneler"
   ]
  },
  {
   "cell_type": "code",
   "execution_count": 1,
   "id": "c3fa6501",
   "metadata": {},
   "outputs": [],
   "source": [
    "import pandas as pd #verileri düzgün şekilde tutabilmek içindir(dataframe içerisinde)\n",
    "import numpy as np #büyük sayılar ve hesaplama işlemleri için kullanılır\n",
    "import matplotlib.pyplot as plt #çizim için kullanılır"
   ]
  },
  {
   "cell_type": "markdown",
   "id": "b79ad3f1",
   "metadata": {},
   "source": [
    "# Kodlar"
   ]
  },
  {
   "cell_type": "markdown",
   "id": "b2a3540d",
   "metadata": {},
   "source": [
    "# 2.Veri onisleme"
   ]
  },
  {
   "cell_type": "code",
   "execution_count": 2,
   "id": "46d3a6c1",
   "metadata": {},
   "outputs": [],
   "source": [
    "#çift tırnakta olur tekte\n",
    "veriler=pd.read_csv('veriler.csv')\n",
    "#pd.read_csv(\"veriler.csv\")"
   ]
  },
  {
   "cell_type": "markdown",
   "id": "0ef81172",
   "metadata": {},
   "source": [
    "# test"
   ]
  },
  {
   "cell_type": "code",
   "execution_count": 3,
   "id": "723b70db",
   "metadata": {},
   "outputs": [
    {
     "name": "stdout",
     "output_type": "stream",
     "text": [
      "   ulke  boy  kilo  yas cinsiyet\n",
      "0    tr  130    30   10        e\n",
      "1    tr  125    36   11        e\n",
      "2    tr  135    34   10        k\n",
      "3    tr  133    30    9        k\n",
      "4    tr  129    38   12        e\n",
      "5    tr  180    90   30        e\n",
      "6    tr  190    80   25        e\n",
      "7    tr  175    90   35        e\n",
      "8    tr  177    60   22        k\n",
      "9    us  185   105   33        e\n",
      "10   us  165    55   27        k\n",
      "11   us  155    50   44        k\n",
      "12   us  160    58   39        k\n",
      "13   us  162    59   41        k\n",
      "14   us  167    62   55        k\n",
      "15   fr  174    70   47        e\n",
      "16   fr  193    90   23        e\n",
      "17   fr  187    80   27        e\n",
      "18   fr  183    88   28        e\n",
      "19   fr  159    40   29        k\n",
      "20   fr  164    66   32        k\n",
      "21   fr  166    56   42        k\n"
     ]
    }
   ],
   "source": [
    "print(veriler)"
   ]
  },
  {
   "cell_type": "code",
   "execution_count": 4,
   "id": "b6a4f0a9",
   "metadata": {},
   "outputs": [],
   "source": [
    "boy= veriler[['boy','kilo']]"
   ]
  },
  {
   "cell_type": "code",
   "execution_count": 5,
   "id": "1470a035",
   "metadata": {},
   "outputs": [
    {
     "data": {
      "text/html": [
       "<div>\n",
       "<style scoped>\n",
       "    .dataframe tbody tr th:only-of-type {\n",
       "        vertical-align: middle;\n",
       "    }\n",
       "\n",
       "    .dataframe tbody tr th {\n",
       "        vertical-align: top;\n",
       "    }\n",
       "\n",
       "    .dataframe thead th {\n",
       "        text-align: right;\n",
       "    }\n",
       "</style>\n",
       "<table border=\"1\" class=\"dataframe\">\n",
       "  <thead>\n",
       "    <tr style=\"text-align: right;\">\n",
       "      <th></th>\n",
       "      <th>boy</th>\n",
       "      <th>kilo</th>\n",
       "    </tr>\n",
       "  </thead>\n",
       "  <tbody>\n",
       "    <tr>\n",
       "      <th>0</th>\n",
       "      <td>130</td>\n",
       "      <td>30</td>\n",
       "    </tr>\n",
       "    <tr>\n",
       "      <th>1</th>\n",
       "      <td>125</td>\n",
       "      <td>36</td>\n",
       "    </tr>\n",
       "    <tr>\n",
       "      <th>2</th>\n",
       "      <td>135</td>\n",
       "      <td>34</td>\n",
       "    </tr>\n",
       "    <tr>\n",
       "      <th>3</th>\n",
       "      <td>133</td>\n",
       "      <td>30</td>\n",
       "    </tr>\n",
       "    <tr>\n",
       "      <th>4</th>\n",
       "      <td>129</td>\n",
       "      <td>38</td>\n",
       "    </tr>\n",
       "    <tr>\n",
       "      <th>5</th>\n",
       "      <td>180</td>\n",
       "      <td>90</td>\n",
       "    </tr>\n",
       "    <tr>\n",
       "      <th>6</th>\n",
       "      <td>190</td>\n",
       "      <td>80</td>\n",
       "    </tr>\n",
       "    <tr>\n",
       "      <th>7</th>\n",
       "      <td>175</td>\n",
       "      <td>90</td>\n",
       "    </tr>\n",
       "    <tr>\n",
       "      <th>8</th>\n",
       "      <td>177</td>\n",
       "      <td>60</td>\n",
       "    </tr>\n",
       "    <tr>\n",
       "      <th>9</th>\n",
       "      <td>185</td>\n",
       "      <td>105</td>\n",
       "    </tr>\n",
       "    <tr>\n",
       "      <th>10</th>\n",
       "      <td>165</td>\n",
       "      <td>55</td>\n",
       "    </tr>\n",
       "    <tr>\n",
       "      <th>11</th>\n",
       "      <td>155</td>\n",
       "      <td>50</td>\n",
       "    </tr>\n",
       "    <tr>\n",
       "      <th>12</th>\n",
       "      <td>160</td>\n",
       "      <td>58</td>\n",
       "    </tr>\n",
       "    <tr>\n",
       "      <th>13</th>\n",
       "      <td>162</td>\n",
       "      <td>59</td>\n",
       "    </tr>\n",
       "    <tr>\n",
       "      <th>14</th>\n",
       "      <td>167</td>\n",
       "      <td>62</td>\n",
       "    </tr>\n",
       "    <tr>\n",
       "      <th>15</th>\n",
       "      <td>174</td>\n",
       "      <td>70</td>\n",
       "    </tr>\n",
       "    <tr>\n",
       "      <th>16</th>\n",
       "      <td>193</td>\n",
       "      <td>90</td>\n",
       "    </tr>\n",
       "    <tr>\n",
       "      <th>17</th>\n",
       "      <td>187</td>\n",
       "      <td>80</td>\n",
       "    </tr>\n",
       "    <tr>\n",
       "      <th>18</th>\n",
       "      <td>183</td>\n",
       "      <td>88</td>\n",
       "    </tr>\n",
       "    <tr>\n",
       "      <th>19</th>\n",
       "      <td>159</td>\n",
       "      <td>40</td>\n",
       "    </tr>\n",
       "    <tr>\n",
       "      <th>20</th>\n",
       "      <td>164</td>\n",
       "      <td>66</td>\n",
       "    </tr>\n",
       "    <tr>\n",
       "      <th>21</th>\n",
       "      <td>166</td>\n",
       "      <td>56</td>\n",
       "    </tr>\n",
       "  </tbody>\n",
       "</table>\n",
       "</div>"
      ],
      "text/plain": [
       "    boy  kilo\n",
       "0   130    30\n",
       "1   125    36\n",
       "2   135    34\n",
       "3   133    30\n",
       "4   129    38\n",
       "5   180    90\n",
       "6   190    80\n",
       "7   175    90\n",
       "8   177    60\n",
       "9   185   105\n",
       "10  165    55\n",
       "11  155    50\n",
       "12  160    58\n",
       "13  162    59\n",
       "14  167    62\n",
       "15  174    70\n",
       "16  193    90\n",
       "17  187    80\n",
       "18  183    88\n",
       "19  159    40\n",
       "20  164    66\n",
       "21  166    56"
      ]
     },
     "execution_count": 5,
     "metadata": {},
     "output_type": "execute_result"
    }
   ],
   "source": [
    "boy"
   ]
  },
  {
   "cell_type": "code",
   "execution_count": 6,
   "id": "d2f41ead",
   "metadata": {},
   "outputs": [],
   "source": [
    "#eksik veriler"
   ]
  },
  {
   "cell_type": "code",
   "execution_count": 7,
   "id": "98e295eb",
   "metadata": {},
   "outputs": [],
   "source": [
    "eVeriler=pd.read_csv('eksikveriler.csv')"
   ]
  },
  {
   "cell_type": "code",
   "execution_count": 8,
   "id": "579ec656",
   "metadata": {},
   "outputs": [
    {
     "data": {
      "text/html": [
       "<div>\n",
       "<style scoped>\n",
       "    .dataframe tbody tr th:only-of-type {\n",
       "        vertical-align: middle;\n",
       "    }\n",
       "\n",
       "    .dataframe tbody tr th {\n",
       "        vertical-align: top;\n",
       "    }\n",
       "\n",
       "    .dataframe thead th {\n",
       "        text-align: right;\n",
       "    }\n",
       "</style>\n",
       "<table border=\"1\" class=\"dataframe\">\n",
       "  <thead>\n",
       "    <tr style=\"text-align: right;\">\n",
       "      <th></th>\n",
       "      <th>ulke</th>\n",
       "      <th>boy</th>\n",
       "      <th>kilo</th>\n",
       "      <th>yas</th>\n",
       "      <th>cinsiyet</th>\n",
       "    </tr>\n",
       "  </thead>\n",
       "  <tbody>\n",
       "    <tr>\n",
       "      <th>0</th>\n",
       "      <td>tr</td>\n",
       "      <td>130</td>\n",
       "      <td>30</td>\n",
       "      <td>10.0</td>\n",
       "      <td>e</td>\n",
       "    </tr>\n",
       "    <tr>\n",
       "      <th>1</th>\n",
       "      <td>tr</td>\n",
       "      <td>125</td>\n",
       "      <td>36</td>\n",
       "      <td>11.0</td>\n",
       "      <td>e</td>\n",
       "    </tr>\n",
       "    <tr>\n",
       "      <th>2</th>\n",
       "      <td>tr</td>\n",
       "      <td>135</td>\n",
       "      <td>34</td>\n",
       "      <td>10.0</td>\n",
       "      <td>k</td>\n",
       "    </tr>\n",
       "    <tr>\n",
       "      <th>3</th>\n",
       "      <td>tr</td>\n",
       "      <td>133</td>\n",
       "      <td>30</td>\n",
       "      <td>9.0</td>\n",
       "      <td>k</td>\n",
       "    </tr>\n",
       "    <tr>\n",
       "      <th>4</th>\n",
       "      <td>tr</td>\n",
       "      <td>129</td>\n",
       "      <td>38</td>\n",
       "      <td>12.0</td>\n",
       "      <td>e</td>\n",
       "    </tr>\n",
       "    <tr>\n",
       "      <th>5</th>\n",
       "      <td>tr</td>\n",
       "      <td>180</td>\n",
       "      <td>90</td>\n",
       "      <td>30.0</td>\n",
       "      <td>e</td>\n",
       "    </tr>\n",
       "    <tr>\n",
       "      <th>6</th>\n",
       "      <td>tr</td>\n",
       "      <td>190</td>\n",
       "      <td>80</td>\n",
       "      <td>25.0</td>\n",
       "      <td>e</td>\n",
       "    </tr>\n",
       "    <tr>\n",
       "      <th>7</th>\n",
       "      <td>tr</td>\n",
       "      <td>175</td>\n",
       "      <td>90</td>\n",
       "      <td>35.0</td>\n",
       "      <td>e</td>\n",
       "    </tr>\n",
       "    <tr>\n",
       "      <th>8</th>\n",
       "      <td>tr</td>\n",
       "      <td>177</td>\n",
       "      <td>60</td>\n",
       "      <td>22.0</td>\n",
       "      <td>k</td>\n",
       "    </tr>\n",
       "    <tr>\n",
       "      <th>9</th>\n",
       "      <td>us</td>\n",
       "      <td>185</td>\n",
       "      <td>105</td>\n",
       "      <td>33.0</td>\n",
       "      <td>e</td>\n",
       "    </tr>\n",
       "    <tr>\n",
       "      <th>10</th>\n",
       "      <td>us</td>\n",
       "      <td>165</td>\n",
       "      <td>55</td>\n",
       "      <td>27.0</td>\n",
       "      <td>k</td>\n",
       "    </tr>\n",
       "    <tr>\n",
       "      <th>11</th>\n",
       "      <td>us</td>\n",
       "      <td>155</td>\n",
       "      <td>50</td>\n",
       "      <td>44.0</td>\n",
       "      <td>k</td>\n",
       "    </tr>\n",
       "    <tr>\n",
       "      <th>12</th>\n",
       "      <td>us</td>\n",
       "      <td>160</td>\n",
       "      <td>58</td>\n",
       "      <td>NaN</td>\n",
       "      <td>k</td>\n",
       "    </tr>\n",
       "    <tr>\n",
       "      <th>13</th>\n",
       "      <td>us</td>\n",
       "      <td>162</td>\n",
       "      <td>59</td>\n",
       "      <td>41.0</td>\n",
       "      <td>k</td>\n",
       "    </tr>\n",
       "    <tr>\n",
       "      <th>14</th>\n",
       "      <td>us</td>\n",
       "      <td>167</td>\n",
       "      <td>62</td>\n",
       "      <td>55.0</td>\n",
       "      <td>k</td>\n",
       "    </tr>\n",
       "    <tr>\n",
       "      <th>15</th>\n",
       "      <td>fr</td>\n",
       "      <td>174</td>\n",
       "      <td>70</td>\n",
       "      <td>47.0</td>\n",
       "      <td>e</td>\n",
       "    </tr>\n",
       "    <tr>\n",
       "      <th>16</th>\n",
       "      <td>fr</td>\n",
       "      <td>193</td>\n",
       "      <td>90</td>\n",
       "      <td>NaN</td>\n",
       "      <td>e</td>\n",
       "    </tr>\n",
       "    <tr>\n",
       "      <th>17</th>\n",
       "      <td>fr</td>\n",
       "      <td>187</td>\n",
       "      <td>80</td>\n",
       "      <td>27.0</td>\n",
       "      <td>e</td>\n",
       "    </tr>\n",
       "    <tr>\n",
       "      <th>18</th>\n",
       "      <td>fr</td>\n",
       "      <td>183</td>\n",
       "      <td>88</td>\n",
       "      <td>28.0</td>\n",
       "      <td>e</td>\n",
       "    </tr>\n",
       "    <tr>\n",
       "      <th>19</th>\n",
       "      <td>fr</td>\n",
       "      <td>159</td>\n",
       "      <td>40</td>\n",
       "      <td>29.0</td>\n",
       "      <td>k</td>\n",
       "    </tr>\n",
       "    <tr>\n",
       "      <th>20</th>\n",
       "      <td>fr</td>\n",
       "      <td>164</td>\n",
       "      <td>66</td>\n",
       "      <td>32.0</td>\n",
       "      <td>k</td>\n",
       "    </tr>\n",
       "    <tr>\n",
       "      <th>21</th>\n",
       "      <td>fr</td>\n",
       "      <td>166</td>\n",
       "      <td>56</td>\n",
       "      <td>42.0</td>\n",
       "      <td>k</td>\n",
       "    </tr>\n",
       "  </tbody>\n",
       "</table>\n",
       "</div>"
      ],
      "text/plain": [
       "   ulke  boy  kilo   yas cinsiyet\n",
       "0    tr  130    30  10.0        e\n",
       "1    tr  125    36  11.0        e\n",
       "2    tr  135    34  10.0        k\n",
       "3    tr  133    30   9.0        k\n",
       "4    tr  129    38  12.0        e\n",
       "5    tr  180    90  30.0        e\n",
       "6    tr  190    80  25.0        e\n",
       "7    tr  175    90  35.0        e\n",
       "8    tr  177    60  22.0        k\n",
       "9    us  185   105  33.0        e\n",
       "10   us  165    55  27.0        k\n",
       "11   us  155    50  44.0        k\n",
       "12   us  160    58   NaN        k\n",
       "13   us  162    59  41.0        k\n",
       "14   us  167    62  55.0        k\n",
       "15   fr  174    70  47.0        e\n",
       "16   fr  193    90   NaN        e\n",
       "17   fr  187    80  27.0        e\n",
       "18   fr  183    88  28.0        e\n",
       "19   fr  159    40  29.0        k\n",
       "20   fr  164    66  32.0        k\n",
       "21   fr  166    56  42.0        k"
      ]
     },
     "execution_count": 8,
     "metadata": {},
     "output_type": "execute_result"
    }
   ],
   "source": [
    "eVeriler"
   ]
  },
  {
   "cell_type": "code",
   "execution_count": 9,
   "id": "5421ad0b",
   "metadata": {},
   "outputs": [],
   "source": [
    "from sklearn.impute import SimpleImputer"
   ]
  },
  {
   "cell_type": "code",
   "execution_count": 10,
   "id": "e97092fe",
   "metadata": {},
   "outputs": [],
   "source": [
    "imputer = SimpleImputer(missing_values=np.nan, strategy='mean') #mean= her sütunun ortalamasını alır ve eksik verinin yerine yazar."
   ]
  },
  {
   "cell_type": "code",
   "execution_count": 11,
   "id": "35017fc6",
   "metadata": {},
   "outputs": [],
   "source": [
    "Yas = eVeriler.iloc[:, 1:4].values"
   ]
  },
  {
   "cell_type": "code",
   "execution_count": 12,
   "id": "d54124e9",
   "metadata": {},
   "outputs": [
    {
     "data": {
      "text/plain": [
       "array([[130.,  30.,  10.],\n",
       "       [125.,  36.,  11.],\n",
       "       [135.,  34.,  10.],\n",
       "       [133.,  30.,   9.],\n",
       "       [129.,  38.,  12.],\n",
       "       [180.,  90.,  30.],\n",
       "       [190.,  80.,  25.],\n",
       "       [175.,  90.,  35.],\n",
       "       [177.,  60.,  22.],\n",
       "       [185., 105.,  33.],\n",
       "       [165.,  55.,  27.],\n",
       "       [155.,  50.,  44.],\n",
       "       [160.,  58.,  nan],\n",
       "       [162.,  59.,  41.],\n",
       "       [167.,  62.,  55.],\n",
       "       [174.,  70.,  47.],\n",
       "       [193.,  90.,  nan],\n",
       "       [187.,  80.,  27.],\n",
       "       [183.,  88.,  28.],\n",
       "       [159.,  40.,  29.],\n",
       "       [164.,  66.,  32.],\n",
       "       [166.,  56.,  42.]])"
      ]
     },
     "execution_count": 12,
     "metadata": {},
     "output_type": "execute_result"
    }
   ],
   "source": [
    "Yas"
   ]
  },
  {
   "cell_type": "code",
   "execution_count": 13,
   "id": "2f7a356d",
   "metadata": {},
   "outputs": [],
   "source": [
    "imputer = imputer.fit(Yas[:, 1:4]) # makine öğrenmesinin öğrenilmesi fit"
   ]
  },
  {
   "cell_type": "code",
   "execution_count": 14,
   "id": "5ac83112",
   "metadata": {},
   "outputs": [
    {
     "data": {
      "text/plain": [
       "array([[130.  ,  30.  ,  10.  ],\n",
       "       [125.  ,  36.  ,  11.  ],\n",
       "       [135.  ,  34.  ,  10.  ],\n",
       "       [133.  ,  30.  ,   9.  ],\n",
       "       [129.  ,  38.  ,  12.  ],\n",
       "       [180.  ,  90.  ,  30.  ],\n",
       "       [190.  ,  80.  ,  25.  ],\n",
       "       [175.  ,  90.  ,  35.  ],\n",
       "       [177.  ,  60.  ,  22.  ],\n",
       "       [185.  , 105.  ,  33.  ],\n",
       "       [165.  ,  55.  ,  27.  ],\n",
       "       [155.  ,  50.  ,  44.  ],\n",
       "       [160.  ,  58.  ,  28.45],\n",
       "       [162.  ,  59.  ,  41.  ],\n",
       "       [167.  ,  62.  ,  55.  ],\n",
       "       [174.  ,  70.  ,  47.  ],\n",
       "       [193.  ,  90.  ,  28.45],\n",
       "       [187.  ,  80.  ,  27.  ],\n",
       "       [183.  ,  88.  ,  28.  ],\n",
       "       [159.  ,  40.  ,  29.  ],\n",
       "       [164.  ,  66.  ,  32.  ],\n",
       "       [166.  ,  56.  ,  42.  ]])"
      ]
     },
     "execution_count": 14,
     "metadata": {},
     "output_type": "execute_result"
    }
   ],
   "source": [
    "Yas[:, 1:4] = imputer.transform(Yas[:, 1:4]) # makine öğrenmesinin uygulanması transform\n",
    "Yas"
   ]
  },
  {
   "cell_type": "code",
   "execution_count": 15,
   "id": "a00ca259",
   "metadata": {},
   "outputs": [],
   "source": [
    "#kategorik veriler - encoder: Nominal Ordidal(kategorik) -> Numeric"
   ]
  },
  {
   "cell_type": "code",
   "execution_count": 16,
   "id": "0e979347",
   "metadata": {},
   "outputs": [
    {
     "name": "stdout",
     "output_type": "stream",
     "text": [
      "[['tr']\n",
      " ['tr']\n",
      " ['tr']\n",
      " ['tr']\n",
      " ['tr']\n",
      " ['tr']\n",
      " ['tr']\n",
      " ['tr']\n",
      " ['tr']\n",
      " ['us']\n",
      " ['us']\n",
      " ['us']\n",
      " ['us']\n",
      " ['us']\n",
      " ['us']\n",
      " ['fr']\n",
      " ['fr']\n",
      " ['fr']\n",
      " ['fr']\n",
      " ['fr']\n",
      " ['fr']\n",
      " ['fr']]\n"
     ]
    }
   ],
   "source": [
    "ulke = veriler.iloc[:, 0:1].values\n",
    "print(ulke)"
   ]
  },
  {
   "cell_type": "code",
   "execution_count": 17,
   "id": "0fe2ac09",
   "metadata": {},
   "outputs": [],
   "source": [
    "from sklearn import preprocessing"
   ]
  },
  {
   "cell_type": "code",
   "execution_count": 38,
   "id": "c21f6a68",
   "metadata": {},
   "outputs": [],
   "source": [
    "le = preprocessing.LabelEncoder() # encoding categorical labels into numerical values."
   ]
  },
  {
   "cell_type": "code",
   "execution_count": 19,
   "id": "5f881b28",
   "metadata": {},
   "outputs": [],
   "source": [
    "ulke[:, 0] = le.fit_transform(veriler.iloc[:,0])"
   ]
  },
  {
   "cell_type": "code",
   "execution_count": 20,
   "id": "66d9c767",
   "metadata": {
    "scrolled": false
   },
   "outputs": [
    {
     "name": "stdout",
     "output_type": "stream",
     "text": [
      "[[1]\n",
      " [1]\n",
      " [1]\n",
      " [1]\n",
      " [1]\n",
      " [1]\n",
      " [1]\n",
      " [1]\n",
      " [1]\n",
      " [2]\n",
      " [2]\n",
      " [2]\n",
      " [2]\n",
      " [2]\n",
      " [2]\n",
      " [0]\n",
      " [0]\n",
      " [0]\n",
      " [0]\n",
      " [0]\n",
      " [0]\n",
      " [0]]\n"
     ]
    }
   ],
   "source": [
    "print(ulke)"
   ]
  },
  {
   "cell_type": "code",
   "execution_count": 21,
   "id": "bc08b27f",
   "metadata": {},
   "outputs": [],
   "source": [
    "ohe = preprocessing.OneHotEncoder()"
   ]
  },
  {
   "cell_type": "code",
   "execution_count": 22,
   "id": "08ace4fa",
   "metadata": {},
   "outputs": [],
   "source": [
    "ulke = ohe.fit_transform(ulke).toarray()"
   ]
  },
  {
   "cell_type": "code",
   "execution_count": 23,
   "id": "f19a87dd",
   "metadata": {},
   "outputs": [
    {
     "name": "stdout",
     "output_type": "stream",
     "text": [
      "     fr   tr   us\n",
      "0   0.0  1.0  0.0\n",
      "1   0.0  1.0  0.0\n",
      "2   0.0  1.0  0.0\n",
      "3   0.0  1.0  0.0\n",
      "4   0.0  1.0  0.0\n",
      "5   0.0  1.0  0.0\n",
      "6   0.0  1.0  0.0\n",
      "7   0.0  1.0  0.0\n",
      "8   0.0  1.0  0.0\n",
      "9   0.0  0.0  1.0\n",
      "10  0.0  0.0  1.0\n",
      "11  0.0  0.0  1.0\n",
      "12  0.0  0.0  1.0\n",
      "13  0.0  0.0  1.0\n",
      "14  0.0  0.0  1.0\n",
      "15  1.0  0.0  0.0\n",
      "16  1.0  0.0  0.0\n",
      "17  1.0  0.0  0.0\n",
      "18  1.0  0.0  0.0\n",
      "19  1.0  0.0  0.0\n",
      "20  1.0  0.0  0.0\n",
      "21  1.0  0.0  0.0\n"
     ]
    }
   ],
   "source": [
    "#numpy dizilerin dataframe'e dönüşümü\n",
    "sonuc = pd.DataFrame(data=ulke, index=range(22), columns=['fr', 'tr', 'us'])\n",
    "print(sonuc)"
   ]
  },
  {
   "cell_type": "code",
   "execution_count": 24,
   "id": "ab71f934",
   "metadata": {},
   "outputs": [
    {
     "name": "stdout",
     "output_type": "stream",
     "text": [
      "      boy   kilo    yas\n",
      "0   130.0   30.0  10.00\n",
      "1   125.0   36.0  11.00\n",
      "2   135.0   34.0  10.00\n",
      "3   133.0   30.0   9.00\n",
      "4   129.0   38.0  12.00\n",
      "5   180.0   90.0  30.00\n",
      "6   190.0   80.0  25.00\n",
      "7   175.0   90.0  35.00\n",
      "8   177.0   60.0  22.00\n",
      "9   185.0  105.0  33.00\n",
      "10  165.0   55.0  27.00\n",
      "11  155.0   50.0  44.00\n",
      "12  160.0   58.0  28.45\n",
      "13  162.0   59.0  41.00\n",
      "14  167.0   62.0  55.00\n",
      "15  174.0   70.0  47.00\n",
      "16  193.0   90.0  28.45\n",
      "17  187.0   80.0  27.00\n",
      "18  183.0   88.0  28.00\n",
      "19  159.0   40.0  29.00\n",
      "20  164.0   66.0  32.00\n",
      "21  166.0   56.0  42.00\n"
     ]
    }
   ],
   "source": [
    "sonuc2 = pd.DataFrame(data=Yas, index = range(22), columns = ['boy','kilo','yas'])\n",
    "print(sonuc2)"
   ]
  },
  {
   "cell_type": "code",
   "execution_count": 25,
   "id": "ed6f4c0e",
   "metadata": {},
   "outputs": [
    {
     "name": "stdout",
     "output_type": "stream",
     "text": [
      "['e' 'e' 'k' 'k' 'e' 'e' 'e' 'e' 'k' 'e' 'k' 'k' 'k' 'k' 'k' 'e' 'e' 'e'\n",
      " 'e' 'k' 'k' 'k']\n"
     ]
    }
   ],
   "source": [
    "cinsiyet = veriler.iloc[:,-1].values\n",
    "print(cinsiyet)"
   ]
  },
  {
   "cell_type": "code",
   "execution_count": 26,
   "id": "bd5cbdcb",
   "metadata": {},
   "outputs": [
    {
     "name": "stdout",
     "output_type": "stream",
     "text": [
      "   cinsiyet\n",
      "0         e\n",
      "1         e\n",
      "2         k\n",
      "3         k\n",
      "4         e\n",
      "5         e\n",
      "6         e\n",
      "7         e\n",
      "8         k\n",
      "9         e\n",
      "10        k\n",
      "11        k\n",
      "12        k\n",
      "13        k\n",
      "14        k\n",
      "15        e\n",
      "16        e\n",
      "17        e\n",
      "18        e\n",
      "19        k\n",
      "20        k\n",
      "21        k\n"
     ]
    }
   ],
   "source": [
    "sonuc3 = pd.DataFrame(data=cinsiyet, index = range(22), columns=['cinsiyet'])\n",
    "print(sonuc3)"
   ]
  },
  {
   "cell_type": "code",
   "execution_count": 27,
   "id": "f6fa9173",
   "metadata": {},
   "outputs": [
    {
     "name": "stdout",
     "output_type": "stream",
     "text": [
      "     fr   tr   us    boy   kilo    yas\n",
      "0   0.0  1.0  0.0  130.0   30.0  10.00\n",
      "1   0.0  1.0  0.0  125.0   36.0  11.00\n",
      "2   0.0  1.0  0.0  135.0   34.0  10.00\n",
      "3   0.0  1.0  0.0  133.0   30.0   9.00\n",
      "4   0.0  1.0  0.0  129.0   38.0  12.00\n",
      "5   0.0  1.0  0.0  180.0   90.0  30.00\n",
      "6   0.0  1.0  0.0  190.0   80.0  25.00\n",
      "7   0.0  1.0  0.0  175.0   90.0  35.00\n",
      "8   0.0  1.0  0.0  177.0   60.0  22.00\n",
      "9   0.0  0.0  1.0  185.0  105.0  33.00\n",
      "10  0.0  0.0  1.0  165.0   55.0  27.00\n",
      "11  0.0  0.0  1.0  155.0   50.0  44.00\n",
      "12  0.0  0.0  1.0  160.0   58.0  28.45\n",
      "13  0.0  0.0  1.0  162.0   59.0  41.00\n",
      "14  0.0  0.0  1.0  167.0   62.0  55.00\n",
      "15  1.0  0.0  0.0  174.0   70.0  47.00\n",
      "16  1.0  0.0  0.0  193.0   90.0  28.45\n",
      "17  1.0  0.0  0.0  187.0   80.0  27.00\n",
      "18  1.0  0.0  0.0  183.0   88.0  28.00\n",
      "19  1.0  0.0  0.0  159.0   40.0  29.00\n",
      "20  1.0  0.0  0.0  164.0   66.0  32.00\n",
      "21  1.0  0.0  0.0  166.0   56.0  42.00\n"
     ]
    }
   ],
   "source": [
    "#dataframeleri birleştirme işlemi\n",
    "s=pd.concat([sonuc,sonuc2],axis=1)\n",
    "print(s)"
   ]
  },
  {
   "cell_type": "code",
   "execution_count": 28,
   "id": "05de37db",
   "metadata": {},
   "outputs": [
    {
     "name": "stdout",
     "output_type": "stream",
     "text": [
      "     fr   tr   us    boy   kilo    yas cinsiyet\n",
      "0   0.0  1.0  0.0  130.0   30.0  10.00        e\n",
      "1   0.0  1.0  0.0  125.0   36.0  11.00        e\n",
      "2   0.0  1.0  0.0  135.0   34.0  10.00        k\n",
      "3   0.0  1.0  0.0  133.0   30.0   9.00        k\n",
      "4   0.0  1.0  0.0  129.0   38.0  12.00        e\n",
      "5   0.0  1.0  0.0  180.0   90.0  30.00        e\n",
      "6   0.0  1.0  0.0  190.0   80.0  25.00        e\n",
      "7   0.0  1.0  0.0  175.0   90.0  35.00        e\n",
      "8   0.0  1.0  0.0  177.0   60.0  22.00        k\n",
      "9   0.0  0.0  1.0  185.0  105.0  33.00        e\n",
      "10  0.0  0.0  1.0  165.0   55.0  27.00        k\n",
      "11  0.0  0.0  1.0  155.0   50.0  44.00        k\n",
      "12  0.0  0.0  1.0  160.0   58.0  28.45        k\n",
      "13  0.0  0.0  1.0  162.0   59.0  41.00        k\n",
      "14  0.0  0.0  1.0  167.0   62.0  55.00        k\n",
      "15  1.0  0.0  0.0  174.0   70.0  47.00        e\n",
      "16  1.0  0.0  0.0  193.0   90.0  28.45        e\n",
      "17  1.0  0.0  0.0  187.0   80.0  27.00        e\n",
      "18  1.0  0.0  0.0  183.0   88.0  28.00        e\n",
      "19  1.0  0.0  0.0  159.0   40.0  29.00        k\n",
      "20  1.0  0.0  0.0  164.0   66.0  32.00        k\n",
      "21  1.0  0.0  0.0  166.0   56.0  42.00        k\n"
     ]
    }
   ],
   "source": [
    "s2 = pd.concat([s,sonuc3],axis=1)\n",
    "print(s2)"
   ]
  },
  {
   "cell_type": "code",
   "execution_count": 29,
   "id": "44e6e3ec",
   "metadata": {},
   "outputs": [],
   "source": [
    "#verilerin egitim ve test icin bolunmesi"
   ]
  },
  {
   "cell_type": "code",
   "execution_count": 30,
   "id": "a49b837e",
   "metadata": {},
   "outputs": [],
   "source": [
    "from sklearn.model_selection import train_test_split"
   ]
  },
  {
   "cell_type": "code",
   "execution_count": 31,
   "id": "170729b7",
   "metadata": {},
   "outputs": [],
   "source": [
    "x_train, x_test, y_train, y_test = train_test_split(s,sonuc3,test_size=0.33,random_state=0)"
   ]
  },
  {
   "cell_type": "code",
   "execution_count": 32,
   "id": "5f90729f",
   "metadata": {},
   "outputs": [],
   "source": [
    "#verilerin olceklenmesi"
   ]
  },
  {
   "cell_type": "code",
   "execution_count": 33,
   "id": "566d96e1",
   "metadata": {},
   "outputs": [],
   "source": [
    "from sklearn.preprocessing import StandardScaler"
   ]
  },
  {
   "cell_type": "code",
   "execution_count": 34,
   "id": "90fb7c17",
   "metadata": {},
   "outputs": [],
   "source": [
    "sc=StandardScaler()"
   ]
  },
  {
   "cell_type": "code",
   "execution_count": 35,
   "id": "b1e8516a",
   "metadata": {},
   "outputs": [],
   "source": [
    "X_train = sc.fit_transform(x_train)"
   ]
  },
  {
   "cell_type": "code",
   "execution_count": 36,
   "id": "6e50e17b",
   "metadata": {},
   "outputs": [],
   "source": [
    "X_test = sc.fit_transform(x_test)"
   ]
  },
  {
   "cell_type": "code",
   "execution_count": 37,
   "id": "8bc8f034",
   "metadata": {},
   "outputs": [
    {
     "data": {
      "text/plain": [
       "array([[ 1.29099445, -0.37796447, -1.        ,  0.47240026,  1.32853794,\n",
       "        -0.24991255],\n",
       "       [-0.77459667, -0.37796447,  1.        ,  0.54952683,  0.20439045,\n",
       "        -0.64977262],\n",
       "       [-0.77459667, -0.37796447,  1.        ,  0.70377998,  0.91975703,\n",
       "         1.58944379],\n",
       "       [-0.77459667, -0.37796447,  1.        ,  0.31814711,  0.61317136,\n",
       "         0.46983559],\n",
       "       [-0.77459667,  2.64575131, -1.        , -2.53553608, -1.73731884,\n",
       "        -1.92932485],\n",
       "       [ 1.29099445, -0.37796447, -1.        ,  0.6266534 ,  0.30658568,\n",
       "         0.5498076 ],\n",
       "       [-0.77459667, -0.37796447,  1.        , -0.2217389 , -0.30658568,\n",
       "         0.70975163],\n",
       "       [ 1.29099445, -0.37796447, -1.        ,  0.08676739, -1.32853794,\n",
       "        -0.48982859]])"
      ]
     },
     "execution_count": 37,
     "metadata": {},
     "output_type": "execute_result"
    }
   ],
   "source": [
    "X_test"
   ]
  }
 ],
 "metadata": {
  "kernelspec": {
   "display_name": "Python 3 (ipykernel)",
   "language": "python",
   "name": "python3"
  },
  "language_info": {
   "codemirror_mode": {
    "name": "ipython",
    "version": 3
   },
   "file_extension": ".py",
   "mimetype": "text/x-python",
   "name": "python",
   "nbconvert_exporter": "python",
   "pygments_lexer": "ipython3",
   "version": "3.12.0"
  }
 },
 "nbformat": 4,
 "nbformat_minor": 5
}
