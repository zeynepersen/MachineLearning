{
 "cells": [
  {
   "cell_type": "markdown",
   "id": "d35a1175",
   "metadata": {},
   "source": [
    "# 1.Kutuphaneler"
   ]
  },
  {
   "cell_type": "code",
   "execution_count": 113,
   "id": "c3fa6501",
   "metadata": {},
   "outputs": [],
   "source": [
    "import pandas as pd #verileri düzgün şekilde tutabilmek içindir(dataframe içerisinde)\n",
    "import numpy as np #büyük sayılar ve hesaplama işlemleri için kullanılır\n",
    "import matplotlib.pyplot as plt #çizim için kullanılır"
   ]
  },
  {
   "cell_type": "markdown",
   "id": "b79ad3f1",
   "metadata": {},
   "source": [
    "# Kodlar"
   ]
  },
  {
   "cell_type": "markdown",
   "id": "b2a3540d",
   "metadata": {},
   "source": [
    "# 2.Veri onisleme"
   ]
  },
  {
   "cell_type": "code",
   "execution_count": 114,
   "id": "46d3a6c1",
   "metadata": {},
   "outputs": [],
   "source": [
    "#çift tırnakta olur tekte\n",
    "veriler=pd.read_csv('veriler.csv')\n",
    "#pd.read_csv(\"veriler.csv\")"
   ]
  },
  {
   "cell_type": "code",
   "execution_count": 134,
   "id": "a00ca259",
   "metadata": {},
   "outputs": [
    {
     "data": {
      "text/html": [
       "<div>\n",
       "<style scoped>\n",
       "    .dataframe tbody tr th:only-of-type {\n",
       "        vertical-align: middle;\n",
       "    }\n",
       "\n",
       "    .dataframe tbody tr th {\n",
       "        vertical-align: top;\n",
       "    }\n",
       "\n",
       "    .dataframe thead th {\n",
       "        text-align: right;\n",
       "    }\n",
       "</style>\n",
       "<table border=\"1\" class=\"dataframe\">\n",
       "  <thead>\n",
       "    <tr style=\"text-align: right;\">\n",
       "      <th></th>\n",
       "      <th>ulke</th>\n",
       "      <th>boy</th>\n",
       "      <th>kilo</th>\n",
       "      <th>yas</th>\n",
       "      <th>cinsiyet</th>\n",
       "    </tr>\n",
       "  </thead>\n",
       "  <tbody>\n",
       "    <tr>\n",
       "      <th>0</th>\n",
       "      <td>tr</td>\n",
       "      <td>130</td>\n",
       "      <td>30</td>\n",
       "      <td>10</td>\n",
       "      <td>e</td>\n",
       "    </tr>\n",
       "    <tr>\n",
       "      <th>1</th>\n",
       "      <td>tr</td>\n",
       "      <td>125</td>\n",
       "      <td>36</td>\n",
       "      <td>11</td>\n",
       "      <td>e</td>\n",
       "    </tr>\n",
       "    <tr>\n",
       "      <th>2</th>\n",
       "      <td>tr</td>\n",
       "      <td>135</td>\n",
       "      <td>34</td>\n",
       "      <td>10</td>\n",
       "      <td>k</td>\n",
       "    </tr>\n",
       "    <tr>\n",
       "      <th>3</th>\n",
       "      <td>tr</td>\n",
       "      <td>133</td>\n",
       "      <td>30</td>\n",
       "      <td>9</td>\n",
       "      <td>k</td>\n",
       "    </tr>\n",
       "    <tr>\n",
       "      <th>4</th>\n",
       "      <td>tr</td>\n",
       "      <td>129</td>\n",
       "      <td>38</td>\n",
       "      <td>12</td>\n",
       "      <td>e</td>\n",
       "    </tr>\n",
       "    <tr>\n",
       "      <th>5</th>\n",
       "      <td>tr</td>\n",
       "      <td>180</td>\n",
       "      <td>90</td>\n",
       "      <td>30</td>\n",
       "      <td>e</td>\n",
       "    </tr>\n",
       "    <tr>\n",
       "      <th>6</th>\n",
       "      <td>tr</td>\n",
       "      <td>190</td>\n",
       "      <td>80</td>\n",
       "      <td>25</td>\n",
       "      <td>e</td>\n",
       "    </tr>\n",
       "    <tr>\n",
       "      <th>7</th>\n",
       "      <td>tr</td>\n",
       "      <td>175</td>\n",
       "      <td>90</td>\n",
       "      <td>35</td>\n",
       "      <td>e</td>\n",
       "    </tr>\n",
       "    <tr>\n",
       "      <th>8</th>\n",
       "      <td>tr</td>\n",
       "      <td>177</td>\n",
       "      <td>60</td>\n",
       "      <td>22</td>\n",
       "      <td>k</td>\n",
       "    </tr>\n",
       "    <tr>\n",
       "      <th>9</th>\n",
       "      <td>us</td>\n",
       "      <td>185</td>\n",
       "      <td>105</td>\n",
       "      <td>33</td>\n",
       "      <td>e</td>\n",
       "    </tr>\n",
       "    <tr>\n",
       "      <th>10</th>\n",
       "      <td>us</td>\n",
       "      <td>165</td>\n",
       "      <td>55</td>\n",
       "      <td>27</td>\n",
       "      <td>k</td>\n",
       "    </tr>\n",
       "    <tr>\n",
       "      <th>11</th>\n",
       "      <td>us</td>\n",
       "      <td>155</td>\n",
       "      <td>50</td>\n",
       "      <td>44</td>\n",
       "      <td>k</td>\n",
       "    </tr>\n",
       "    <tr>\n",
       "      <th>12</th>\n",
       "      <td>us</td>\n",
       "      <td>160</td>\n",
       "      <td>58</td>\n",
       "      <td>39</td>\n",
       "      <td>k</td>\n",
       "    </tr>\n",
       "    <tr>\n",
       "      <th>13</th>\n",
       "      <td>us</td>\n",
       "      <td>162</td>\n",
       "      <td>59</td>\n",
       "      <td>41</td>\n",
       "      <td>k</td>\n",
       "    </tr>\n",
       "    <tr>\n",
       "      <th>14</th>\n",
       "      <td>us</td>\n",
       "      <td>167</td>\n",
       "      <td>62</td>\n",
       "      <td>55</td>\n",
       "      <td>k</td>\n",
       "    </tr>\n",
       "    <tr>\n",
       "      <th>15</th>\n",
       "      <td>fr</td>\n",
       "      <td>174</td>\n",
       "      <td>70</td>\n",
       "      <td>47</td>\n",
       "      <td>e</td>\n",
       "    </tr>\n",
       "    <tr>\n",
       "      <th>16</th>\n",
       "      <td>fr</td>\n",
       "      <td>193</td>\n",
       "      <td>90</td>\n",
       "      <td>23</td>\n",
       "      <td>e</td>\n",
       "    </tr>\n",
       "    <tr>\n",
       "      <th>17</th>\n",
       "      <td>fr</td>\n",
       "      <td>187</td>\n",
       "      <td>80</td>\n",
       "      <td>27</td>\n",
       "      <td>e</td>\n",
       "    </tr>\n",
       "    <tr>\n",
       "      <th>18</th>\n",
       "      <td>fr</td>\n",
       "      <td>183</td>\n",
       "      <td>88</td>\n",
       "      <td>28</td>\n",
       "      <td>e</td>\n",
       "    </tr>\n",
       "    <tr>\n",
       "      <th>19</th>\n",
       "      <td>fr</td>\n",
       "      <td>159</td>\n",
       "      <td>40</td>\n",
       "      <td>29</td>\n",
       "      <td>k</td>\n",
       "    </tr>\n",
       "    <tr>\n",
       "      <th>20</th>\n",
       "      <td>fr</td>\n",
       "      <td>164</td>\n",
       "      <td>66</td>\n",
       "      <td>32</td>\n",
       "      <td>k</td>\n",
       "    </tr>\n",
       "    <tr>\n",
       "      <th>21</th>\n",
       "      <td>fr</td>\n",
       "      <td>166</td>\n",
       "      <td>56</td>\n",
       "      <td>42</td>\n",
       "      <td>k</td>\n",
       "    </tr>\n",
       "  </tbody>\n",
       "</table>\n",
       "</div>"
      ],
      "text/plain": [
       "   ulke  boy  kilo  yas cinsiyet\n",
       "0    tr  130    30   10        e\n",
       "1    tr  125    36   11        e\n",
       "2    tr  135    34   10        k\n",
       "3    tr  133    30    9        k\n",
       "4    tr  129    38   12        e\n",
       "5    tr  180    90   30        e\n",
       "6    tr  190    80   25        e\n",
       "7    tr  175    90   35        e\n",
       "8    tr  177    60   22        k\n",
       "9    us  185   105   33        e\n",
       "10   us  165    55   27        k\n",
       "11   us  155    50   44        k\n",
       "12   us  160    58   39        k\n",
       "13   us  162    59   41        k\n",
       "14   us  167    62   55        k\n",
       "15   fr  174    70   47        e\n",
       "16   fr  193    90   23        e\n",
       "17   fr  187    80   27        e\n",
       "18   fr  183    88   28        e\n",
       "19   fr  159    40   29        k\n",
       "20   fr  164    66   32        k\n",
       "21   fr  166    56   42        k"
      ]
     },
     "execution_count": 134,
     "metadata": {},
     "output_type": "execute_result"
    }
   ],
   "source": [
    "#kategorik veriler - encoder: Nominal Ordidal(kategorik) -> Numeric\n",
    "veriler"
   ]
  },
  {
   "cell_type": "code",
   "execution_count": 135,
   "id": "0e979347",
   "metadata": {},
   "outputs": [
    {
     "name": "stdout",
     "output_type": "stream",
     "text": [
      "[['tr']\n",
      " ['tr']\n",
      " ['tr']\n",
      " ['tr']\n",
      " ['tr']\n",
      " ['tr']\n",
      " ['tr']\n",
      " ['tr']\n",
      " ['tr']\n",
      " ['us']\n",
      " ['us']\n",
      " ['us']\n",
      " ['us']\n",
      " ['us']\n",
      " ['us']\n",
      " ['fr']\n",
      " ['fr']\n",
      " ['fr']\n",
      " ['fr']\n",
      " ['fr']\n",
      " ['fr']\n",
      " ['fr']]\n"
     ]
    }
   ],
   "source": [
    "ulke = veriler.iloc[:, 0:1].values\n",
    "Yas = veriler.iloc[:, :-2]\n",
    "print(ulke)"
   ]
  },
  {
   "cell_type": "code",
   "execution_count": 117,
   "id": "0fe2ac09",
   "metadata": {},
   "outputs": [],
   "source": [
    "from sklearn import preprocessing"
   ]
  },
  {
   "cell_type": "code",
   "execution_count": 118,
   "id": "c21f6a68",
   "metadata": {},
   "outputs": [],
   "source": [
    "le = preprocessing.LabelEncoder()"
   ]
  },
  {
   "cell_type": "code",
   "execution_count": 119,
   "id": "5f881b28",
   "metadata": {},
   "outputs": [],
   "source": [
    "ulke[:,0] = le.fit_transform(veriler.iloc[:,0])"
   ]
  },
  {
   "cell_type": "code",
   "execution_count": 120,
   "id": "66d9c767",
   "metadata": {
    "scrolled": false
   },
   "outputs": [
    {
     "name": "stdout",
     "output_type": "stream",
     "text": [
      "[[1]\n",
      " [1]\n",
      " [1]\n",
      " [1]\n",
      " [1]\n",
      " [1]\n",
      " [1]\n",
      " [1]\n",
      " [1]\n",
      " [2]\n",
      " [2]\n",
      " [2]\n",
      " [2]\n",
      " [2]\n",
      " [2]\n",
      " [0]\n",
      " [0]\n",
      " [0]\n",
      " [0]\n",
      " [0]\n",
      " [0]\n",
      " [0]]\n"
     ]
    }
   ],
   "source": [
    "print(ulke)"
   ]
  },
  {
   "cell_type": "code",
   "execution_count": 121,
   "id": "bc08b27f",
   "metadata": {},
   "outputs": [],
   "source": [
    "ohe = preprocessing.OneHotEncoder()"
   ]
  },
  {
   "cell_type": "code",
   "execution_count": 122,
   "id": "08ace4fa",
   "metadata": {},
   "outputs": [],
   "source": [
    "ulke = ohe.fit_transform(ulke).toarray()"
   ]
  },
  {
   "cell_type": "code",
   "execution_count": 123,
   "id": "3a7765b6",
   "metadata": {},
   "outputs": [
    {
     "name": "stdout",
     "output_type": "stream",
     "text": [
      "[['e']\n",
      " ['e']\n",
      " ['k']\n",
      " ['k']\n",
      " ['e']\n",
      " ['e']\n",
      " ['e']\n",
      " ['e']\n",
      " ['k']\n",
      " ['e']\n",
      " ['k']\n",
      " ['k']\n",
      " ['k']\n",
      " ['k']\n",
      " ['k']\n",
      " ['e']\n",
      " ['e']\n",
      " ['e']\n",
      " ['e']\n",
      " ['k']\n",
      " ['k']\n",
      " ['k']]\n",
      "[[0]\n",
      " [0]\n",
      " [1]\n",
      " [1]\n",
      " [0]\n",
      " [0]\n",
      " [0]\n",
      " [0]\n",
      " [1]\n",
      " [0]\n",
      " [1]\n",
      " [1]\n",
      " [1]\n",
      " [1]\n",
      " [1]\n",
      " [0]\n",
      " [0]\n",
      " [0]\n",
      " [0]\n",
      " [1]\n",
      " [1]\n",
      " [1]]\n"
     ]
    }
   ],
   "source": [
    "#kategorik veriler - encoder: Nominal Ordidal(kategorik) -> Numeric\n",
    "c = veriler.iloc[:, -1:].values\n",
    "print(c)\n",
    "\n",
    "from sklearn import preprocessing\n",
    "\n",
    "le = preprocessing.LabelEncoder() # encoding categorical labels into numerical values.\n",
    "\n",
    "c[:, -1] = le.fit_transform(veriler.iloc[:,-1])\n",
    "\n",
    "print(c)\n"
   ]
  },
  {
   "cell_type": "code",
   "execution_count": 124,
   "id": "d90c0e76",
   "metadata": {},
   "outputs": [
    {
     "name": "stdout",
     "output_type": "stream",
     "text": [
      "[[1. 0.]\n",
      " [1. 0.]\n",
      " [0. 1.]\n",
      " [0. 1.]\n",
      " [1. 0.]\n",
      " [1. 0.]\n",
      " [1. 0.]\n",
      " [1. 0.]\n",
      " [0. 1.]\n",
      " [1. 0.]\n",
      " [0. 1.]\n",
      " [0. 1.]\n",
      " [0. 1.]\n",
      " [0. 1.]\n",
      " [0. 1.]\n",
      " [1. 0.]\n",
      " [1. 0.]\n",
      " [1. 0.]\n",
      " [1. 0.]\n",
      " [0. 1.]\n",
      " [0. 1.]\n",
      " [0. 1.]]\n"
     ]
    }
   ],
   "source": [
    "ohe = preprocessing.OneHotEncoder()\n",
    "c = ohe.fit_transform(c).toarray()\n",
    "print(c)"
   ]
  },
  {
   "cell_type": "code",
   "execution_count": 125,
   "id": "f19a87dd",
   "metadata": {},
   "outputs": [
    {
     "name": "stdout",
     "output_type": "stream",
     "text": [
      "     fr   tr   us\n",
      "0   0.0  1.0  0.0\n",
      "1   0.0  1.0  0.0\n",
      "2   0.0  1.0  0.0\n",
      "3   0.0  1.0  0.0\n",
      "4   0.0  1.0  0.0\n",
      "5   0.0  1.0  0.0\n",
      "6   0.0  1.0  0.0\n",
      "7   0.0  1.0  0.0\n",
      "8   0.0  1.0  0.0\n",
      "9   0.0  0.0  1.0\n",
      "10  0.0  0.0  1.0\n",
      "11  0.0  0.0  1.0\n",
      "12  0.0  0.0  1.0\n",
      "13  0.0  0.0  1.0\n",
      "14  0.0  0.0  1.0\n",
      "15  1.0  0.0  0.0\n",
      "16  1.0  0.0  0.0\n",
      "17  1.0  0.0  0.0\n",
      "18  1.0  0.0  0.0\n",
      "19  1.0  0.0  0.0\n",
      "20  1.0  0.0  0.0\n",
      "21  1.0  0.0  0.0\n"
     ]
    }
   ],
   "source": [
    "#numpy dizilerin dataframe'e dönüşümü\n",
    "sonuc = pd.DataFrame(data=ulke, index=range(22), columns=['fr', 'tr', 'us'])\n",
    "print(sonuc)"
   ]
  },
  {
   "cell_type": "code",
   "execution_count": 136,
   "id": "ab71f934",
   "metadata": {},
   "outputs": [
    {
     "name": "stdout",
     "output_type": "stream",
     "text": [
      "    boy  kilo  yas\n",
      "0   130    30  NaN\n",
      "1   125    36  NaN\n",
      "2   135    34  NaN\n",
      "3   133    30  NaN\n",
      "4   129    38  NaN\n",
      "5   180    90  NaN\n",
      "6   190    80  NaN\n",
      "7   175    90  NaN\n",
      "8   177    60  NaN\n",
      "9   185   105  NaN\n",
      "10  165    55  NaN\n",
      "11  155    50  NaN\n",
      "12  160    58  NaN\n",
      "13  162    59  NaN\n",
      "14  167    62  NaN\n",
      "15  174    70  NaN\n",
      "16  193    90  NaN\n",
      "17  187    80  NaN\n",
      "18  183    88  NaN\n",
      "19  159    40  NaN\n",
      "20  164    66  NaN\n",
      "21  166    56  NaN\n"
     ]
    }
   ],
   "source": [
    "sonuc2 = pd.DataFrame(data=Yas, index = range(22), columns = ['boy','kilo','yas'])\n",
    "print(sonuc2)"
   ]
  },
  {
   "cell_type": "code",
   "execution_count": 137,
   "id": "ed6f4c0e",
   "metadata": {},
   "outputs": [
    {
     "name": "stdout",
     "output_type": "stream",
     "text": [
      "['e' 'e' 'k' 'k' 'e' 'e' 'e' 'e' 'k' 'e' 'k' 'k' 'k' 'k' 'k' 'e' 'e' 'e'\n",
      " 'e' 'k' 'k' 'k']\n"
     ]
    }
   ],
   "source": [
    "cinsiyet = veriler.iloc[:,-1].values\n",
    "print(cinsiyet)"
   ]
  },
  {
   "cell_type": "code",
   "execution_count": 138,
   "id": "bd5cbdcb",
   "metadata": {},
   "outputs": [
    {
     "name": "stdout",
     "output_type": "stream",
     "text": [
      "    cinsiyet\n",
      "0        1.0\n",
      "1        1.0\n",
      "2        0.0\n",
      "3        0.0\n",
      "4        1.0\n",
      "5        1.0\n",
      "6        1.0\n",
      "7        1.0\n",
      "8        0.0\n",
      "9        1.0\n",
      "10       0.0\n",
      "11       0.0\n",
      "12       0.0\n",
      "13       0.0\n",
      "14       0.0\n",
      "15       1.0\n",
      "16       1.0\n",
      "17       1.0\n",
      "18       1.0\n",
      "19       0.0\n",
      "20       0.0\n",
      "21       0.0\n"
     ]
    }
   ],
   "source": [
    "sonuc3 = pd.DataFrame(data=c[:,:1], index = range(22), columns=['cinsiyet'])\n",
    "print(sonuc3)"
   ]
  },
  {
   "cell_type": "code",
   "execution_count": 139,
   "id": "f02eee81",
   "metadata": {},
   "outputs": [
    {
     "name": "stdout",
     "output_type": "stream",
     "text": [
      "     fr   tr   us  boy  kilo  yas\n",
      "0   0.0  1.0  0.0  130    30  NaN\n",
      "1   0.0  1.0  0.0  125    36  NaN\n",
      "2   0.0  1.0  0.0  135    34  NaN\n",
      "3   0.0  1.0  0.0  133    30  NaN\n",
      "4   0.0  1.0  0.0  129    38  NaN\n",
      "5   0.0  1.0  0.0  180    90  NaN\n",
      "6   0.0  1.0  0.0  190    80  NaN\n",
      "7   0.0  1.0  0.0  175    90  NaN\n",
      "8   0.0  1.0  0.0  177    60  NaN\n",
      "9   0.0  0.0  1.0  185   105  NaN\n",
      "10  0.0  0.0  1.0  165    55  NaN\n",
      "11  0.0  0.0  1.0  155    50  NaN\n",
      "12  0.0  0.0  1.0  160    58  NaN\n",
      "13  0.0  0.0  1.0  162    59  NaN\n",
      "14  0.0  0.0  1.0  167    62  NaN\n",
      "15  1.0  0.0  0.0  174    70  NaN\n",
      "16  1.0  0.0  0.0  193    90  NaN\n",
      "17  1.0  0.0  0.0  187    80  NaN\n",
      "18  1.0  0.0  0.0  183    88  NaN\n",
      "19  1.0  0.0  0.0  159    40  NaN\n",
      "20  1.0  0.0  0.0  164    66  NaN\n",
      "21  1.0  0.0  0.0  166    56  NaN\n"
     ]
    }
   ],
   "source": [
    "#dataframe birlestirme islemi\n",
    "s=pd.concat([sonuc,sonuc2], axis=1)\n",
    "print(s)"
   ]
  },
  {
   "cell_type": "code",
   "execution_count": 140,
   "id": "c58e725b",
   "metadata": {},
   "outputs": [
    {
     "name": "stdout",
     "output_type": "stream",
     "text": [
      "     fr   tr   us  boy  kilo  yas  cinsiyet\n",
      "0   0.0  1.0  0.0  130    30  NaN       1.0\n",
      "1   0.0  1.0  0.0  125    36  NaN       1.0\n",
      "2   0.0  1.0  0.0  135    34  NaN       0.0\n",
      "3   0.0  1.0  0.0  133    30  NaN       0.0\n",
      "4   0.0  1.0  0.0  129    38  NaN       1.0\n",
      "5   0.0  1.0  0.0  180    90  NaN       1.0\n",
      "6   0.0  1.0  0.0  190    80  NaN       1.0\n",
      "7   0.0  1.0  0.0  175    90  NaN       1.0\n",
      "8   0.0  1.0  0.0  177    60  NaN       0.0\n",
      "9   0.0  0.0  1.0  185   105  NaN       1.0\n",
      "10  0.0  0.0  1.0  165    55  NaN       0.0\n",
      "11  0.0  0.0  1.0  155    50  NaN       0.0\n",
      "12  0.0  0.0  1.0  160    58  NaN       0.0\n",
      "13  0.0  0.0  1.0  162    59  NaN       0.0\n",
      "14  0.0  0.0  1.0  167    62  NaN       0.0\n",
      "15  1.0  0.0  0.0  174    70  NaN       1.0\n",
      "16  1.0  0.0  0.0  193    90  NaN       1.0\n",
      "17  1.0  0.0  0.0  187    80  NaN       1.0\n",
      "18  1.0  0.0  0.0  183    88  NaN       1.0\n",
      "19  1.0  0.0  0.0  159    40  NaN       0.0\n",
      "20  1.0  0.0  0.0  164    66  NaN       0.0\n",
      "21  1.0  0.0  0.0  166    56  NaN       0.0\n"
     ]
    }
   ],
   "source": [
    "s2=pd.concat([s,sonuc3], axis=1)\n",
    "print(s2)"
   ]
  },
  {
   "cell_type": "code",
   "execution_count": 141,
   "id": "f6fa9173",
   "metadata": {},
   "outputs": [],
   "source": [
    "#verilerin egitim ve test icin bolunmesi\n",
    "from sklearn.model_selection import train_test_split"
   ]
  },
  {
   "cell_type": "code",
   "execution_count": 142,
   "id": "05de37db",
   "metadata": {},
   "outputs": [],
   "source": [
    "x_train, x_test,y_train,y_test = train_test_split(s,sonuc3,test_size=0.33, random_state=0)\n"
   ]
  }
 ],
 "metadata": {
  "kernelspec": {
   "display_name": "Python 3 (ipykernel)",
   "language": "python",
   "name": "python3"
  },
  "language_info": {
   "codemirror_mode": {
    "name": "ipython",
    "version": 3
   },
   "file_extension": ".py",
   "mimetype": "text/x-python",
   "name": "python",
   "nbconvert_exporter": "python",
   "pygments_lexer": "ipython3",
   "version": "3.12.0"
  }
 },
 "nbformat": 4,
 "nbformat_minor": 5
}
